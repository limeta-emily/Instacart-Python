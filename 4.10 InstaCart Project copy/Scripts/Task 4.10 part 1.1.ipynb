{
 "cells": [
  {
   "cell_type": "code",
   "execution_count": 1,
   "id": "0ed0b801",
   "metadata": {},
   "outputs": [],
   "source": [
    "#Import libaries\n",
    "import pandas as pd\n",
    "import numpy as np\n",
    "import os\n",
    "import matplotlib.pyplot as plt\n",
    "import seaborn as sns\n",
    "import scipy "
   ]
  },
  {
   "cell_type": "code",
   "execution_count": 2,
   "id": "5f425559",
   "metadata": {},
   "outputs": [],
   "source": [
    "path = r'/Users/emilypickett/Documents/InstaCart Basket Project'"
   ]
  },
  {
   "cell_type": "code",
   "execution_count": 3,
   "id": "7795a844",
   "metadata": {},
   "outputs": [],
   "source": [
    "#import all_merge\n",
    "df = pd.read_pickle(os.path.join(path, 'Data', 'Prepared Data', 'all_merged.pkl'))"
   ]
  },
  {
   "cell_type": "markdown",
   "id": "1194384d",
   "metadata": {},
   "source": [
    "### Consider PII\n",
    "##### excluded first and last name column as contain PII and not needed for analysis"
   ]
  },
  {
   "cell_type": "code",
   "execution_count": 4,
   "id": "24665c15",
   "metadata": {},
   "outputs": [],
   "source": [
    "#exclude PII columns- first and last name\n",
    "df = df.drop(columns = [ 'first_name', 'Surnam' ])"
   ]
  },
  {
   "cell_type": "markdown",
   "id": "52834db0",
   "metadata": {},
   "source": [
    "#### Creating region based on State column to compare customer behavior in different geographic areas"
   ]
  },
  {
   "cell_type": "code",
   "execution_count": 5,
   "id": "d22c6318",
   "metadata": {},
   "outputs": [],
   "source": [
    "# Creating a loop for regions\n",
    "\n",
    "result = []\n",
    "\n",
    "for value in df['STATE']:\n",
    "    if value in ('Maine', 'New Hampshire', 'Vermont', 'Massachusetts', 'Rhode Island', 'Connecticut', 'New York', \n",
    "                 'Pennsylvania', 'New Jersey'):\n",
    "        result.append('Northeast')\n",
    "    elif value in ('Wisconsin', 'Michigan', 'Illinois', 'Indiana', 'Ohio', 'North Dakota' , 'South Dakota', 'Nebraska', \n",
    "                   'Kansas', 'Minnesota', 'Iowa', 'Missouri'):\n",
    "        result.append('Midwest')\n",
    "    elif value in ('Delaware', 'Maryland', 'District of Columbia', 'Virginia', 'West Virginia', 'North Carolina', \n",
    "                   'South Carolina', 'Georgia', 'Florida', 'Kentucky', 'Tennessee', 'Mississippi', 'Alabama', \n",
    "                   'Oklahoma', 'Texas', 'Arkansas', 'Louisiana'):\n",
    "        result.append('South')\n",
    "    elif value in ('Idaho', 'Montana', 'Wyoming', 'Nevada', 'Utah', 'Colorado', 'Arizona', 'New Mexico', 'Alaska', \n",
    "                   'Washington', 'Oregon', 'California', 'Hawaii'):\n",
    "        result.append('West')\n",
    "    else:\n",
    "        result.append('Unknown')  "
   ]
  },
  {
   "cell_type": "code",
   "execution_count": 6,
   "id": "5f9eb5af",
   "metadata": {},
   "outputs": [],
   "source": [
    "#adding region column to dataframe\n",
    "df['region'] = result"
   ]
  },
  {
   "cell_type": "code",
   "execution_count": 7,
   "id": "5d6580a5",
   "metadata": {},
   "outputs": [
    {
     "data": {
      "text/plain": [
       "region\n",
       "South        10791885\n",
       "West          8292913\n",
       "Midwest       7597325\n",
       "Northeast     5722736\n",
       "Name: count, dtype: int64"
      ]
     },
     "execution_count": 7,
     "metadata": {},
     "output_type": "execute_result"
    }
   ],
   "source": [
    "#checking region column\n",
    "df['region'].value_counts(dropna = False)"
   ]
  },
  {
   "cell_type": "markdown",
   "id": "c5eb496e",
   "metadata": {},
   "source": [
    "### Compare spending habits in each region"
   ]
  },
  {
   "cell_type": "code",
   "execution_count": 8,
   "id": "02d9f77c",
   "metadata": {},
   "outputs": [],
   "source": [
    "#create cross tab with region and spender\n",
    "df2 = pd.crosstab(df['region'], df['spender'])"
   ]
  },
  {
   "cell_type": "code",
   "execution_count": 9,
   "id": "ad49a711",
   "metadata": {},
   "outputs": [
    {
     "data": {
      "text/html": [
       "<div>\n",
       "<style scoped>\n",
       "    .dataframe tbody tr th:only-of-type {\n",
       "        vertical-align: middle;\n",
       "    }\n",
       "\n",
       "    .dataframe tbody tr th {\n",
       "        vertical-align: top;\n",
       "    }\n",
       "\n",
       "    .dataframe thead th {\n",
       "        text-align: right;\n",
       "    }\n",
       "</style>\n",
       "<table border=\"1\" class=\"dataframe\">\n",
       "  <thead>\n",
       "    <tr style=\"text-align: right;\">\n",
       "      <th>spender</th>\n",
       "      <th>High spender</th>\n",
       "      <th>Low spender</th>\n",
       "    </tr>\n",
       "    <tr>\n",
       "      <th>region</th>\n",
       "      <th></th>\n",
       "      <th></th>\n",
       "    </tr>\n",
       "  </thead>\n",
       "  <tbody>\n",
       "    <tr>\n",
       "      <th>Midwest</th>\n",
       "      <td>155932</td>\n",
       "      <td>7441350</td>\n",
       "    </tr>\n",
       "    <tr>\n",
       "      <th>Northeast</th>\n",
       "      <td>108180</td>\n",
       "      <td>5614511</td>\n",
       "    </tr>\n",
       "    <tr>\n",
       "      <th>South</th>\n",
       "      <td>209481</td>\n",
       "      <td>10582194</td>\n",
       "    </tr>\n",
       "    <tr>\n",
       "      <th>West</th>\n",
       "      <td>160271</td>\n",
       "      <td>8132559</td>\n",
       "    </tr>\n",
       "  </tbody>\n",
       "</table>\n",
       "</div>"
      ],
      "text/plain": [
       "spender    High spender  Low spender\n",
       "region                              \n",
       "Midwest          155932      7441350\n",
       "Northeast        108180      5614511\n",
       "South            209481     10582194\n",
       "West             160271      8132559"
      ]
     },
     "execution_count": 9,
     "metadata": {},
     "output_type": "execute_result"
    }
   ],
   "source": [
    "df2"
   ]
  },
  {
   "cell_type": "code",
   "execution_count": 10,
   "id": "394c2a7e",
   "metadata": {},
   "outputs": [],
   "source": [
    "#calcuate total customers in each region\n",
    "total_customer_region = df.groupby('region')['user_id'].count()"
   ]
  },
  {
   "cell_type": "code",
   "execution_count": 11,
   "id": "e929cfed",
   "metadata": {},
   "outputs": [],
   "source": [
    "#get proportion of count in percentage by dividing total customers in each region * 100\n",
    "region_precent = Prop_count = df2.div(total_customer_region, axis = 0) *100"
   ]
  },
  {
   "cell_type": "code",
   "execution_count": 12,
   "id": "4dbbf604",
   "metadata": {},
   "outputs": [
    {
     "data": {
      "text/html": [
       "<div>\n",
       "<style scoped>\n",
       "    .dataframe tbody tr th:only-of-type {\n",
       "        vertical-align: middle;\n",
       "    }\n",
       "\n",
       "    .dataframe tbody tr th {\n",
       "        vertical-align: top;\n",
       "    }\n",
       "\n",
       "    .dataframe thead th {\n",
       "        text-align: right;\n",
       "    }\n",
       "</style>\n",
       "<table border=\"1\" class=\"dataframe\">\n",
       "  <thead>\n",
       "    <tr style=\"text-align: right;\">\n",
       "      <th>spender</th>\n",
       "      <th>High spender</th>\n",
       "      <th>Low spender</th>\n",
       "    </tr>\n",
       "    <tr>\n",
       "      <th>region</th>\n",
       "      <th></th>\n",
       "      <th></th>\n",
       "    </tr>\n",
       "  </thead>\n",
       "  <tbody>\n",
       "    <tr>\n",
       "      <th>Midwest</th>\n",
       "      <td>2.052459</td>\n",
       "      <td>97.946975</td>\n",
       "    </tr>\n",
       "    <tr>\n",
       "      <th>Northeast</th>\n",
       "      <td>1.890355</td>\n",
       "      <td>98.108859</td>\n",
       "    </tr>\n",
       "    <tr>\n",
       "      <th>South</th>\n",
       "      <td>1.941097</td>\n",
       "      <td>98.056957</td>\n",
       "    </tr>\n",
       "    <tr>\n",
       "      <th>West</th>\n",
       "      <td>1.932626</td>\n",
       "      <td>98.066373</td>\n",
       "    </tr>\n",
       "  </tbody>\n",
       "</table>\n",
       "</div>"
      ],
      "text/plain": [
       "spender    High spender  Low spender\n",
       "region                              \n",
       "Midwest        2.052459    97.946975\n",
       "Northeast      1.890355    98.108859\n",
       "South          1.941097    98.056957\n",
       "West           1.932626    98.066373"
      ]
     },
     "execution_count": 12,
     "metadata": {},
     "output_type": "execute_result"
    }
   ],
   "source": [
    "region_precent"
   ]
  },
  {
   "cell_type": "code",
   "execution_count": 13,
   "id": "85eafe5d",
   "metadata": {},
   "outputs": [
    {
     "data": {
      "text/plain": [
       "Text(0.5, 1.0, 'Percent of High & Low Spenders by Region')"
      ]
     },
     "execution_count": 13,
     "metadata": {},
     "output_type": "execute_result"
    },
    {
     "data": {
      "image/png": "[encoded data removed]",
      "text/plain": [
       "<Figure size 640x480 with 1 Axes>"
      ]
     },
     "metadata": {},
     "output_type": "display_data"
    }
   ],
   "source": [
    "#create bar chart of results\n",
    "bar_region = region_precent.plot.bar()\n",
    "#add labels\n",
    "plt.xlabel('Region')\n",
    "plt.ylabel('Percentage')\n",
    "plt.title('Percent of High & Low Spenders by Region')"
   ]
  },
  {
   "cell_type": "code",
   "execution_count": 14,
   "id": "be65c2bf",
   "metadata": {},
   "outputs": [],
   "source": [
    "#exporting visual\n",
    "bar_region.figure.savefig(os.path.join(path, 'Analysis','Visualizations', 'bar_region_spenders.png'))"
   ]
  },
  {
   "cell_type": "markdown",
   "id": "7af29aeb",
   "metadata": {},
   "source": [
    "### Create flag for low-activity customers"
   ]
  },
  {
   "cell_type": "code",
   "execution_count": 15,
   "id": "99f7221c",
   "metadata": {},
   "outputs": [],
   "source": [
    "#create flag customers > 5 orders\n",
    "df['low_activity'] = np.where(df['max_order'] < 5, 'Yes', 'No')"
   ]
  },
  {
   "cell_type": "code",
   "execution_count": 16,
   "id": "ba18a3c7",
   "metadata": {},
   "outputs": [
    {
     "data": {
      "text/html": [
       "<div>\n",
       "<style scoped>\n",
       "    .dataframe tbody tr th:only-of-type {\n",
       "        vertical-align: middle;\n",
       "    }\n",
       "\n",
       "    .dataframe tbody tr th {\n",
       "        vertical-align: top;\n",
       "    }\n",
       "\n",
       "    .dataframe thead th {\n",
       "        text-align: right;\n",
       "    }\n",
       "</style>\n",
       "<table border=\"1\" class=\"dataframe\">\n",
       "  <thead>\n",
       "    <tr style=\"text-align: right;\">\n",
       "      <th></th>\n",
       "      <th>product_id</th>\n",
       "      <th>product_name</th>\n",
       "      <th>aisle_id</th>\n",
       "      <th>department_id</th>\n",
       "      <th>prices</th>\n",
       "      <th>order_id</th>\n",
       "      <th>user_id</th>\n",
       "      <th>eval_set</th>\n",
       "      <th>order_number</th>\n",
       "      <th>order_dow</th>\n",
       "      <th>...</th>\n",
       "      <th>Gender</th>\n",
       "      <th>STATE</th>\n",
       "      <th>Age</th>\n",
       "      <th>date_joined</th>\n",
       "      <th>n_dependants</th>\n",
       "      <th>family_status</th>\n",
       "      <th>income</th>\n",
       "      <th>merge_2</th>\n",
       "      <th>region</th>\n",
       "      <th>low_activity</th>\n",
       "    </tr>\n",
       "  </thead>\n",
       "  <tbody>\n",
       "    <tr>\n",
       "      <th>0</th>\n",
       "      <td>1</td>\n",
       "      <td>Chocolate Sandwich Cookies</td>\n",
       "      <td>61</td>\n",
       "      <td>19</td>\n",
       "      <td>5.8</td>\n",
       "      <td>3139998</td>\n",
       "      <td>138</td>\n",
       "      <td>prior</td>\n",
       "      <td>28</td>\n",
       "      <td>6</td>\n",
       "      <td>...</td>\n",
       "      <td>Male</td>\n",
       "      <td>Minnesota</td>\n",
       "      <td>81</td>\n",
       "      <td>8/1/2019</td>\n",
       "      <td>1</td>\n",
       "      <td>married</td>\n",
       "      <td>49620</td>\n",
       "      <td>both</td>\n",
       "      <td>Midwest</td>\n",
       "      <td>No</td>\n",
       "    </tr>\n",
       "    <tr>\n",
       "      <th>1</th>\n",
       "      <td>1</td>\n",
       "      <td>Chocolate Sandwich Cookies</td>\n",
       "      <td>61</td>\n",
       "      <td>19</td>\n",
       "      <td>5.8</td>\n",
       "      <td>1977647</td>\n",
       "      <td>138</td>\n",
       "      <td>prior</td>\n",
       "      <td>30</td>\n",
       "      <td>6</td>\n",
       "      <td>...</td>\n",
       "      <td>Male</td>\n",
       "      <td>Minnesota</td>\n",
       "      <td>81</td>\n",
       "      <td>8/1/2019</td>\n",
       "      <td>1</td>\n",
       "      <td>married</td>\n",
       "      <td>49620</td>\n",
       "      <td>both</td>\n",
       "      <td>Midwest</td>\n",
       "      <td>No</td>\n",
       "    </tr>\n",
       "    <tr>\n",
       "      <th>2</th>\n",
       "      <td>907</td>\n",
       "      <td>Premium Sliced Bacon</td>\n",
       "      <td>106</td>\n",
       "      <td>12</td>\n",
       "      <td>20.0</td>\n",
       "      <td>3160996</td>\n",
       "      <td>138</td>\n",
       "      <td>prior</td>\n",
       "      <td>1</td>\n",
       "      <td>5</td>\n",
       "      <td>...</td>\n",
       "      <td>Male</td>\n",
       "      <td>Minnesota</td>\n",
       "      <td>81</td>\n",
       "      <td>8/1/2019</td>\n",
       "      <td>1</td>\n",
       "      <td>married</td>\n",
       "      <td>49620</td>\n",
       "      <td>both</td>\n",
       "      <td>Midwest</td>\n",
       "      <td>No</td>\n",
       "    </tr>\n",
       "    <tr>\n",
       "      <th>3</th>\n",
       "      <td>907</td>\n",
       "      <td>Premium Sliced Bacon</td>\n",
       "      <td>106</td>\n",
       "      <td>12</td>\n",
       "      <td>20.0</td>\n",
       "      <td>2254091</td>\n",
       "      <td>138</td>\n",
       "      <td>prior</td>\n",
       "      <td>10</td>\n",
       "      <td>5</td>\n",
       "      <td>...</td>\n",
       "      <td>Male</td>\n",
       "      <td>Minnesota</td>\n",
       "      <td>81</td>\n",
       "      <td>8/1/2019</td>\n",
       "      <td>1</td>\n",
       "      <td>married</td>\n",
       "      <td>49620</td>\n",
       "      <td>both</td>\n",
       "      <td>Midwest</td>\n",
       "      <td>No</td>\n",
       "    </tr>\n",
       "    <tr>\n",
       "      <th>4</th>\n",
       "      <td>1000</td>\n",
       "      <td>Apricots</td>\n",
       "      <td>18</td>\n",
       "      <td>10</td>\n",
       "      <td>12.9</td>\n",
       "      <td>505689</td>\n",
       "      <td>138</td>\n",
       "      <td>prior</td>\n",
       "      <td>9</td>\n",
       "      <td>6</td>\n",
       "      <td>...</td>\n",
       "      <td>Male</td>\n",
       "      <td>Minnesota</td>\n",
       "      <td>81</td>\n",
       "      <td>8/1/2019</td>\n",
       "      <td>1</td>\n",
       "      <td>married</td>\n",
       "      <td>49620</td>\n",
       "      <td>both</td>\n",
       "      <td>Midwest</td>\n",
       "      <td>No</td>\n",
       "    </tr>\n",
       "  </tbody>\n",
       "</table>\n",
       "<p>5 rows × 35 columns</p>\n",
       "</div>"
      ],
      "text/plain": [
       "   product_id                product_name  aisle_id  department_id  prices  \\\n",
       "0           1  Chocolate Sandwich Cookies        61             19     5.8   \n",
       "1           1  Chocolate Sandwich Cookies        61             19     5.8   \n",
       "2         907        Premium Sliced Bacon       106             12    20.0   \n",
       "3         907        Premium Sliced Bacon       106             12    20.0   \n",
       "4        1000                    Apricots        18             10    12.9   \n",
       "\n",
       "   order_id  user_id eval_set  order_number  order_dow  ...  Gender  \\\n",
       "0   3139998      138    prior            28          6  ...    Male   \n",
       "1   1977647      138    prior            30          6  ...    Male   \n",
       "2   3160996      138    prior             1          5  ...    Male   \n",
       "3   2254091      138    prior            10          5  ...    Male   \n",
       "4    505689      138    prior             9          6  ...    Male   \n",
       "\n",
       "       STATE  Age  date_joined n_dependants family_status income merge_2  \\\n",
       "0  Minnesota   81     8/1/2019            1       married  49620    both   \n",
       "1  Minnesota   81     8/1/2019            1       married  49620    both   \n",
       "2  Minnesota   81     8/1/2019            1       married  49620    both   \n",
       "3  Minnesota   81     8/1/2019            1       married  49620    both   \n",
       "4  Minnesota   81     8/1/2019            1       married  49620    both   \n",
       "\n",
       "    region  low_activity  \n",
       "0  Midwest            No  \n",
       "1  Midwest            No  \n",
       "2  Midwest            No  \n",
       "3  Midwest            No  \n",
       "4  Midwest            No  \n",
       "\n",
       "[5 rows x 35 columns]"
      ]
     },
     "execution_count": 16,
     "metadata": {},
     "output_type": "execute_result"
    }
   ],
   "source": [
    "#checking flag\n",
    "df.head()"
   ]
  },
  {
   "cell_type": "code",
   "execution_count": 17,
   "id": "02d744d3",
   "metadata": {},
   "outputs": [],
   "source": [
    "#create new dataframe with only customer who have fewer than 5 orders\n",
    "df_few = df[df['low_activity'] == 'Yes']"
   ]
  },
  {
   "cell_type": "code",
   "execution_count": 18,
   "id": "c256e2ac",
   "metadata": {},
   "outputs": [],
   "source": [
    "#exporting under 5 order sample\n",
    "df_few.to_pickle(os.path.join(path, 'Data', 'Prepared Data', 'under_five_orders.csv'))"
   ]
  },
  {
   "cell_type": "code",
   "execution_count": 19,
   "id": "aa707834",
   "metadata": {},
   "outputs": [],
   "source": [
    "#remove under 5 from main dataframe\n",
    "df = df[df['low_activity'] != 'Yes']"
   ]
  },
  {
   "cell_type": "code",
   "execution_count": 20,
   "id": "55d92263",
   "metadata": {},
   "outputs": [],
   "source": [
    "#exporting dataframe w/ over 5 orders\n",
    "df.to_pickle(os.path.join(path, 'Data', 'Prepared Data', 'over_five_orders.csv'))"
   ]
  }
 ],
 "metadata": {
  "kernelspec": {
   "display_name": "Python 3 (ipykernel)",
   "language": "python",
   "name": "python3"
  },
  "language_info": {
   "codemirror_mode": {
    "name": "ipython",
    "version": 3
   },
   "file_extension": ".py",
   "mimetype": "text/x-python",
   "name": "python",
   "nbconvert_exporter": "python",
   "pygments_lexer": "ipython3",
   "version": "3.11.5"
  }
 },
 "nbformat": 4,
 "nbformat_minor": 5
}
