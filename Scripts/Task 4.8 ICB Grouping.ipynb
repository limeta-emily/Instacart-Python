{
 "cells": [
  {
   "cell_type": "code",
   "execution_count": 1,
   "id": "20f8ada8",
   "metadata": {},
   "outputs": [],
   "source": [
    "#import libraries\n",
    "import pandas as pd\n",
    "import numpy as np\n",
    "import os"
   ]
  },
  {
   "cell_type": "code",
   "execution_count": 2,
   "id": "b5305150",
   "metadata": {},
   "outputs": [],
   "source": [
    "path = r'/Users/emilypickett/Documents/InstaCart Basket Project'"
   ]
  },
  {
   "cell_type": "code",
   "execution_count": 21,
   "id": "0c2820ee",
   "metadata": {},
   "outputs": [],
   "source": [
    "#import order_merge\n",
    "df_merge = pd.read_pickle(os.path.join(path, 'Data', 'Prepared Data', 'orders_products_merged_grouped.pkl'))"
   ]
  },
  {
   "cell_type": "code",
   "execution_count": 4,
   "id": "5034ca5c",
   "metadata": {},
   "outputs": [
    {
     "data": {
      "text/html": [
       "<div>\n",
       "<style scoped>\n",
       "    .dataframe tbody tr th:only-of-type {\n",
       "        vertical-align: middle;\n",
       "    }\n",
       "\n",
       "    .dataframe tbody tr th {\n",
       "        vertical-align: top;\n",
       "    }\n",
       "\n",
       "    .dataframe thead tr th {\n",
       "        text-align: left;\n",
       "    }\n",
       "\n",
       "    .dataframe thead tr:last-of-type th {\n",
       "        text-align: right;\n",
       "    }\n",
       "</style>\n",
       "<table border=\"1\" class=\"dataframe\">\n",
       "  <thead>\n",
       "    <tr>\n",
       "      <th></th>\n",
       "      <th>order_number</th>\n",
       "    </tr>\n",
       "    <tr>\n",
       "      <th></th>\n",
       "      <th>mean</th>\n",
       "    </tr>\n",
       "    <tr>\n",
       "      <th>department_id</th>\n",
       "      <th></th>\n",
       "    </tr>\n",
       "  </thead>\n",
       "  <tbody>\n",
       "    <tr>\n",
       "      <th>1</th>\n",
       "      <td>15.457838</td>\n",
       "    </tr>\n",
       "    <tr>\n",
       "      <th>2</th>\n",
       "      <td>17.277920</td>\n",
       "    </tr>\n",
       "    <tr>\n",
       "      <th>3</th>\n",
       "      <td>17.170395</td>\n",
       "    </tr>\n",
       "    <tr>\n",
       "      <th>4</th>\n",
       "      <td>17.811403</td>\n",
       "    </tr>\n",
       "    <tr>\n",
       "      <th>5</th>\n",
       "      <td>15.215751</td>\n",
       "    </tr>\n",
       "    <tr>\n",
       "      <th>6</th>\n",
       "      <td>16.439806</td>\n",
       "    </tr>\n",
       "    <tr>\n",
       "      <th>7</th>\n",
       "      <td>17.225802</td>\n",
       "    </tr>\n",
       "    <tr>\n",
       "      <th>8</th>\n",
       "      <td>15.340650</td>\n",
       "    </tr>\n",
       "    <tr>\n",
       "      <th>9</th>\n",
       "      <td>15.895474</td>\n",
       "    </tr>\n",
       "    <tr>\n",
       "      <th>10</th>\n",
       "      <td>20.197148</td>\n",
       "    </tr>\n",
       "    <tr>\n",
       "      <th>11</th>\n",
       "      <td>16.170638</td>\n",
       "    </tr>\n",
       "    <tr>\n",
       "      <th>12</th>\n",
       "      <td>15.887671</td>\n",
       "    </tr>\n",
       "    <tr>\n",
       "      <th>13</th>\n",
       "      <td>16.583536</td>\n",
       "    </tr>\n",
       "    <tr>\n",
       "      <th>14</th>\n",
       "      <td>16.773669</td>\n",
       "    </tr>\n",
       "    <tr>\n",
       "      <th>15</th>\n",
       "      <td>16.165037</td>\n",
       "    </tr>\n",
       "    <tr>\n",
       "      <th>16</th>\n",
       "      <td>17.665606</td>\n",
       "    </tr>\n",
       "    <tr>\n",
       "      <th>17</th>\n",
       "      <td>15.694469</td>\n",
       "    </tr>\n",
       "    <tr>\n",
       "      <th>18</th>\n",
       "      <td>19.310397</td>\n",
       "    </tr>\n",
       "    <tr>\n",
       "      <th>19</th>\n",
       "      <td>17.177343</td>\n",
       "    </tr>\n",
       "    <tr>\n",
       "      <th>20</th>\n",
       "      <td>16.473447</td>\n",
       "    </tr>\n",
       "    <tr>\n",
       "      <th>21</th>\n",
       "      <td>22.902379</td>\n",
       "    </tr>\n",
       "  </tbody>\n",
       "</table>\n",
       "</div>"
      ],
      "text/plain": [
       "              order_number\n",
       "                      mean\n",
       "department_id             \n",
       "1                15.457838\n",
       "2                17.277920\n",
       "3                17.170395\n",
       "4                17.811403\n",
       "5                15.215751\n",
       "6                16.439806\n",
       "7                17.225802\n",
       "8                15.340650\n",
       "9                15.895474\n",
       "10               20.197148\n",
       "11               16.170638\n",
       "12               15.887671\n",
       "13               16.583536\n",
       "14               16.773669\n",
       "15               16.165037\n",
       "16               17.665606\n",
       "17               15.694469\n",
       "18               19.310397\n",
       "19               17.177343\n",
       "20               16.473447\n",
       "21               22.902379"
      ]
     },
     "execution_count": 4,
     "metadata": {},
     "output_type": "execute_result"
    }
   ],
   "source": [
    "#1 agg mean of order_number\n",
    "df_merge.groupby('department_id').agg({'order_number': ['mean']})"
   ]
  },
  {
   "cell_type": "markdown",
   "id": "24d6890d",
   "metadata": {},
   "source": [
    "the results differ slightly to the subset some departments such as 21 and 10 changed more department 10 changing from 18.6 to 20.9 and department 21 changing from 25.5 to 22.9. Where other departments only had a slight change of .1. This might be due to the departments with less of a change had more data in the first million rows (subset) verse the departments that changed more significantly had more data after the subset."
   ]
  },
  {
   "cell_type": "code",
   "execution_count": 22,
   "id": "8c13bbb6",
   "metadata": {},
   "outputs": [],
   "source": [
    "#5 Do prices for each loyalty_flag differ on price\n",
    "loyalty_stats = df_merge.groupby('loyalty_flag')['prices'].describe()"
   ]
  },
  {
   "cell_type": "code",
   "execution_count": 13,
   "id": "68f7b0dd",
   "metadata": {},
   "outputs": [
    {
     "name": "stdout",
     "output_type": "stream",
     "text": [
      "                       count       mean         std  min  25%  50%   75%  \\\n",
      "loyalty_flag                                                               \n",
      "Loyal customer    10284093.0  10.386336  328.017787  1.0  4.2  7.4  11.2   \n",
      "New customer       6243990.0  13.294670  597.560299  1.0  4.2  7.4  11.3   \n",
      "Regular customer  15876776.0  12.495717  539.720919  1.0  4.2  7.4  11.3   \n",
      "\n",
      "                      max  \n",
      "loyalty_flag               \n",
      "Loyal customer    99999.0  \n",
      "New customer      99999.0  \n",
      "Regular customer  99999.0  \n"
     ]
    }
   ],
   "source": [
    "print(loyalty_stats)"
   ]
  },
  {
   "cell_type": "code",
   "execution_count": 23,
   "id": "abe01d43",
   "metadata": {},
   "outputs": [
    {
     "name": "stderr",
     "output_type": "stream",
     "text": [
      "/var/folders/zk/lxc3sp7n5rqf4k_sl172k5xh0000gn/T/ipykernel_82734/3311408029.py:2: FutureWarning: The provided callable <function mean at 0x118b35620> is currently using SeriesGroupBy.mean. In a future version of pandas, the provided callable will be used directly. To keep current behavior pass the string \"mean\" instead.\n",
      "  df_merge['avg_price'] = df_merge.groupby(['user_id'])['prices'].transform(np.mean)\n"
     ]
    }
   ],
   "source": [
    "#6 create spender flag based on avg price by user_id\n",
    "df_merge['avg_price'] = df_merge.groupby(['user_id'])['prices'].transform(np.mean)"
   ]
  },
  {
   "cell_type": "code",
   "execution_count": 27,
   "id": "a8a51c62",
   "metadata": {},
   "outputs": [],
   "source": [
    "df_merge.loc[df_merge['avg_price'] < 10, 'spender'] = 'Low spender'"
   ]
  },
  {
   "cell_type": "code",
   "execution_count": 28,
   "id": "b30cb6d9",
   "metadata": {},
   "outputs": [],
   "source": [
    "df_merge.loc[df_merge['avg_price'] > 10, 'spender'] = 'High spender'"
   ]
  },
  {
   "cell_type": "code",
   "execution_count": 29,
   "id": "f468247c",
   "metadata": {},
   "outputs": [
    {
     "data": {
      "text/html": [
       "<div>\n",
       "<style scoped>\n",
       "    .dataframe tbody tr th:only-of-type {\n",
       "        vertical-align: middle;\n",
       "    }\n",
       "\n",
       "    .dataframe tbody tr th {\n",
       "        vertical-align: top;\n",
       "    }\n",
       "\n",
       "    .dataframe thead th {\n",
       "        text-align: right;\n",
       "    }\n",
       "</style>\n",
       "<table border=\"1\" class=\"dataframe\">\n",
       "  <thead>\n",
       "    <tr style=\"text-align: right;\">\n",
       "      <th></th>\n",
       "      <th>avg_price</th>\n",
       "      <th>spender</th>\n",
       "    </tr>\n",
       "  </thead>\n",
       "  <tbody>\n",
       "    <tr>\n",
       "      <th>0</th>\n",
       "      <td>6.935811</td>\n",
       "      <td>Low spender</td>\n",
       "    </tr>\n",
       "    <tr>\n",
       "      <th>1</th>\n",
       "      <td>6.935811</td>\n",
       "      <td>Low spender</td>\n",
       "    </tr>\n",
       "    <tr>\n",
       "      <th>2</th>\n",
       "      <td>7.930208</td>\n",
       "      <td>Low spender</td>\n",
       "    </tr>\n",
       "    <tr>\n",
       "      <th>3</th>\n",
       "      <td>4.972414</td>\n",
       "      <td>Low spender</td>\n",
       "    </tr>\n",
       "    <tr>\n",
       "      <th>4</th>\n",
       "      <td>4.972414</td>\n",
       "      <td>Low spender</td>\n",
       "    </tr>\n",
       "    <tr>\n",
       "      <th>5</th>\n",
       "      <td>6.935398</td>\n",
       "      <td>Low spender</td>\n",
       "    </tr>\n",
       "    <tr>\n",
       "      <th>6</th>\n",
       "      <td>5.957576</td>\n",
       "      <td>Low spender</td>\n",
       "    </tr>\n",
       "    <tr>\n",
       "      <th>7</th>\n",
       "      <td>6.680000</td>\n",
       "      <td>Low spender</td>\n",
       "    </tr>\n",
       "    <tr>\n",
       "      <th>8</th>\n",
       "      <td>7.162500</td>\n",
       "      <td>Low spender</td>\n",
       "    </tr>\n",
       "    <tr>\n",
       "      <th>9</th>\n",
       "      <td>7.162500</td>\n",
       "      <td>Low spender</td>\n",
       "    </tr>\n",
       "  </tbody>\n",
       "</table>\n",
       "</div>"
      ],
      "text/plain": [
       "   avg_price      spender\n",
       "0   6.935811  Low spender\n",
       "1   6.935811  Low spender\n",
       "2   7.930208  Low spender\n",
       "3   4.972414  Low spender\n",
       "4   4.972414  Low spender\n",
       "5   6.935398  Low spender\n",
       "6   5.957576  Low spender\n",
       "7   6.680000  Low spender\n",
       "8   7.162500  Low spender\n",
       "9   7.162500  Low spender"
      ]
     },
     "execution_count": 29,
     "metadata": {},
     "output_type": "execute_result"
    }
   ],
   "source": [
    "df_merge[['avg_price', 'spender']].head(10)"
   ]
  },
  {
   "cell_type": "code",
   "execution_count": 32,
   "id": "ccb3ff68",
   "metadata": {},
   "outputs": [
    {
     "name": "stderr",
     "output_type": "stream",
     "text": [
      "/var/folders/zk/lxc3sp7n5rqf4k_sl172k5xh0000gn/T/ipykernel_82734/4072466340.py:2: FutureWarning: The provided callable <function median at 0x119967880> is currently using SeriesGroupBy.median. In a future version of pandas, the provided callable will be used directly. To keep current behavior pass the string \"median\" instead.\n",
      "  df_merge['median_prior_order'] = df_merge.groupby(['user_id'])['prices'].transform(np.median)\n"
     ]
    }
   ],
   "source": [
    "#7 create frequency flag basied on median days_since_prior_order\n",
    "df_merge['median_prior_order'] = df_merge.groupby(['user_id'])['prices'].transform(np.median)"
   ]
  },
  {
   "cell_type": "code",
   "execution_count": 33,
   "id": "2c54d824",
   "metadata": {},
   "outputs": [
    {
     "name": "stderr",
     "output_type": "stream",
     "text": [
      "/var/folders/zk/lxc3sp7n5rqf4k_sl172k5xh0000gn/T/ipykernel_82734/3958318904.py:1: FutureWarning: Setting an item of incompatible dtype is deprecated and will raise in a future error of pandas. Value 'Non-frequent_customer' has dtype incompatible with float64, please explicitly cast to a compatible dtype first.\n",
      "  df_merge.loc[df_merge['median_prior_order'] > 20, 'frequency'] = 'Non-frequent_customer'\n"
     ]
    }
   ],
   "source": [
    "df_merge.loc[df_merge['median_prior_order'] > 20, 'frequency'] = 'Non-frequent_customer'"
   ]
  },
  {
   "cell_type": "code",
   "execution_count": 34,
   "id": "f09ce628",
   "metadata": {},
   "outputs": [],
   "source": [
    "df_merge.loc[(df_merge['median_prior_order'] <= 20) & (df_merge['median_prior_order'] > 10), 'frequency'] = 'Regular customer'"
   ]
  },
  {
   "cell_type": "code",
   "execution_count": 35,
   "id": "43f435d1",
   "metadata": {},
   "outputs": [],
   "source": [
    "df_merge.loc[df_merge['median_prior_order'] <= 10, 'frequency'] = 'Frequent_customer'"
   ]
  },
  {
   "cell_type": "code",
   "execution_count": 37,
   "id": "1e640eb4",
   "metadata": {},
   "outputs": [
    {
     "data": {
      "text/html": [
       "<div>\n",
       "<style scoped>\n",
       "    .dataframe tbody tr th:only-of-type {\n",
       "        vertical-align: middle;\n",
       "    }\n",
       "\n",
       "    .dataframe tbody tr th {\n",
       "        vertical-align: top;\n",
       "    }\n",
       "\n",
       "    .dataframe thead th {\n",
       "        text-align: right;\n",
       "    }\n",
       "</style>\n",
       "<table border=\"1\" class=\"dataframe\">\n",
       "  <thead>\n",
       "    <tr style=\"text-align: right;\">\n",
       "      <th></th>\n",
       "      <th>median_prior_order</th>\n",
       "      <th>frequency</th>\n",
       "    </tr>\n",
       "  </thead>\n",
       "  <tbody>\n",
       "    <tr>\n",
       "      <th>0</th>\n",
       "      <td>6.6</td>\n",
       "      <td>Frequent_customer</td>\n",
       "    </tr>\n",
       "    <tr>\n",
       "      <th>1</th>\n",
       "      <td>6.6</td>\n",
       "      <td>Frequent_customer</td>\n",
       "    </tr>\n",
       "    <tr>\n",
       "      <th>2</th>\n",
       "      <td>7.5</td>\n",
       "      <td>Frequent_customer</td>\n",
       "    </tr>\n",
       "    <tr>\n",
       "      <th>3</th>\n",
       "      <td>4.8</td>\n",
       "      <td>Frequent_customer</td>\n",
       "    </tr>\n",
       "    <tr>\n",
       "      <th>4</th>\n",
       "      <td>4.8</td>\n",
       "      <td>Frequent_customer</td>\n",
       "    </tr>\n",
       "    <tr>\n",
       "      <th>5</th>\n",
       "      <td>7.8</td>\n",
       "      <td>Frequent_customer</td>\n",
       "    </tr>\n",
       "    <tr>\n",
       "      <th>6</th>\n",
       "      <td>5.8</td>\n",
       "      <td>Frequent_customer</td>\n",
       "    </tr>\n",
       "    <tr>\n",
       "      <th>7</th>\n",
       "      <td>5.6</td>\n",
       "      <td>Frequent_customer</td>\n",
       "    </tr>\n",
       "    <tr>\n",
       "      <th>8</th>\n",
       "      <td>7.2</td>\n",
       "      <td>Frequent_customer</td>\n",
       "    </tr>\n",
       "    <tr>\n",
       "      <th>9</th>\n",
       "      <td>7.2</td>\n",
       "      <td>Frequent_customer</td>\n",
       "    </tr>\n",
       "  </tbody>\n",
       "</table>\n",
       "</div>"
      ],
      "text/plain": [
       "   median_prior_order          frequency\n",
       "0                 6.6  Frequent_customer\n",
       "1                 6.6  Frequent_customer\n",
       "2                 7.5  Frequent_customer\n",
       "3                 4.8  Frequent_customer\n",
       "4                 4.8  Frequent_customer\n",
       "5                 7.8  Frequent_customer\n",
       "6                 5.8  Frequent_customer\n",
       "7                 5.6  Frequent_customer\n",
       "8                 7.2  Frequent_customer\n",
       "9                 7.2  Frequent_customer"
      ]
     },
     "execution_count": 37,
     "metadata": {},
     "output_type": "execute_result"
    }
   ],
   "source": [
    "df_merge[['median_prior_order', 'frequency']].head(10)"
   ]
  },
  {
   "cell_type": "code",
   "execution_count": 38,
   "id": "871cbd46",
   "metadata": {},
   "outputs": [],
   "source": [
    "#export dataframe as pickle\n",
    "df_merge.to_pickle(os.path.join(path, 'Data', 'Prepared Data', 'orders_products_merged_grouped_2.pkl'))"
   ]
  }
 ],
 "metadata": {
  "kernelspec": {
   "display_name": "Python 3 (ipykernel)",
   "language": "python",
   "name": "python3"
  },
  "language_info": {
   "codemirror_mode": {
    "name": "ipython",
    "version": 3
   },
   "file_extension": ".py",
   "mimetype": "text/x-python",
   "name": "python",
   "nbconvert_exporter": "python",
   "pygments_lexer": "ipython3",
   "version": "3.11.5"
  }
 },
 "nbformat": 4,
 "nbformat_minor": 5
}
