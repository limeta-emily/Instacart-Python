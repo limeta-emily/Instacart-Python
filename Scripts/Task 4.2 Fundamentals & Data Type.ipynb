{
 "cells": [
  {
   "cell_type": "markdown",
   "id": "2696683c",
   "metadata": {},
   "source": [
    "## 01. Importing libraries"
   ]
  },
  {
   "cell_type": "code",
   "execution_count": 1,
   "id": "128fd6a8",
   "metadata": {},
   "outputs": [],
   "source": [
    "#import libraries\n",
    "import pandas as pd\n",
    "import numpy as np\n",
    "import os"
   ]
  },
  {
   "cell_type": "markdown",
   "id": "8f4ae7e2",
   "metadata": {},
   "source": [
    "## 02. Data Types"
   ]
  },
  {
   "cell_type": "markdown",
   "id": "b7af25dc",
   "metadata": {},
   "source": [
    "#Answer 7"
   ]
  },
  {
   "cell_type": "code",
   "execution_count": 6,
   "id": "7420b7f9",
   "metadata": {},
   "outputs": [],
   "source": [
    "x=50"
   ]
  },
  {
   "cell_type": "code",
   "execution_count": 7,
   "id": "779f26a1",
   "metadata": {},
   "outputs": [],
   "source": [
    "y=50"
   ]
  },
  {
   "cell_type": "code",
   "execution_count": 8,
   "id": "7d584eeb",
   "metadata": {},
   "outputs": [],
   "source": [
    "z=150"
   ]
  },
  {
   "cell_type": "code",
   "execution_count": 9,
   "id": "75ffe5fb",
   "metadata": {},
   "outputs": [
    {
     "data": {
      "text/plain": [
       "100"
      ]
     },
     "execution_count": 9,
     "metadata": {},
     "output_type": "execute_result"
    }
   ],
   "source": [
    "x+y"
   ]
  },
  {
   "cell_type": "code",
   "execution_count": 11,
   "id": "63090885",
   "metadata": {},
   "outputs": [
    {
     "data": {
      "text/plain": [
       "100"
      ]
     },
     "execution_count": 11,
     "metadata": {},
     "output_type": "execute_result"
    }
   ],
   "source": [
    "z-x"
   ]
  },
  {
   "cell_type": "code",
   "execution_count": 12,
   "id": "b15f7a60",
   "metadata": {},
   "outputs": [
    {
     "data": {
      "text/plain": [
       "100"
      ]
     },
     "execution_count": 12,
     "metadata": {},
     "output_type": "execute_result"
    }
   ],
   "source": [
    "z-y"
   ]
  },
  {
   "cell_type": "markdown",
   "id": "4d54a55d",
   "metadata": {},
   "source": [
    "#Answer 8"
   ]
  },
  {
   "cell_type": "code",
   "execution_count": 13,
   "id": "67ea21c2",
   "metadata": {},
   "outputs": [],
   "source": [
    "a=2.2"
   ]
  },
  {
   "cell_type": "code",
   "execution_count": 14,
   "id": "d918acc4",
   "metadata": {},
   "outputs": [],
   "source": [
    "b= 7.56"
   ]
  },
  {
   "cell_type": "code",
   "execution_count": 15,
   "id": "ac33a262",
   "metadata": {},
   "outputs": [
    {
     "data": {
      "text/plain": [
       "0.29100529100529104"
      ]
     },
     "execution_count": 15,
     "metadata": {},
     "output_type": "execute_result"
    }
   ],
   "source": [
    "a/b"
   ]
  },
  {
   "cell_type": "markdown",
   "id": "24ed1b2b",
   "metadata": {},
   "source": [
    "#Anwer 9"
   ]
  },
  {
   "cell_type": "code",
   "execution_count": 20,
   "id": "5154ee02",
   "metadata": {},
   "outputs": [],
   "source": [
    "f= 'Hello '"
   ]
  },
  {
   "cell_type": "code",
   "execution_count": 21,
   "id": "0ce5959c",
   "metadata": {},
   "outputs": [],
   "source": [
    "e= 'Emily'"
   ]
  },
  {
   "cell_type": "code",
   "execution_count": 22,
   "id": "7a46d3e8",
   "metadata": {},
   "outputs": [
    {
     "data": {
      "text/plain": [
       "'Hello Emily'"
      ]
     },
     "execution_count": 22,
     "metadata": {},
     "output_type": "execute_result"
    }
   ],
   "source": [
    "f+e"
   ]
  },
  {
   "cell_type": "markdown",
   "id": "0edb3a72",
   "metadata": {},
   "source": [
    "#Answer 10"
   ]
  },
  {
   "cell_type": "code",
   "execution_count": 16,
   "id": "b6d11afe",
   "metadata": {},
   "outputs": [],
   "source": [
    "c= 'Good '"
   ]
  },
  {
   "cell_type": "code",
   "execution_count": 17,
   "id": "20c5bf2a",
   "metadata": {},
   "outputs": [],
   "source": [
    "d= 'work '"
   ]
  },
  {
   "cell_type": "code",
   "execution_count": 23,
   "id": "574d76d0",
   "metadata": {},
   "outputs": [],
   "source": [
    "e= 'Emily'"
   ]
  },
  {
   "cell_type": "code",
   "execution_count": 24,
   "id": "84beed65",
   "metadata": {},
   "outputs": [
    {
     "data": {
      "text/plain": [
       "'Good work Emily'"
      ]
     },
     "execution_count": 24,
     "metadata": {},
     "output_type": "execute_result"
    }
   ],
   "source": [
    "c+d+e"
   ]
  },
  {
   "cell_type": "code",
   "execution_count": 25,
   "id": "0c9264fd",
   "metadata": {},
   "outputs": [],
   "source": [
    "g= 'How are you '"
   ]
  },
  {
   "cell_type": "code",
   "execution_count": 26,
   "id": "3343104e",
   "metadata": {},
   "outputs": [
    {
     "data": {
      "text/plain": [
       "'How are you Emily'"
      ]
     },
     "execution_count": 26,
     "metadata": {},
     "output_type": "execute_result"
    }
   ],
   "source": [
    "g+e"
   ]
  },
  {
   "cell_type": "markdown",
   "id": "215db2dd",
   "metadata": {},
   "source": [
    "#bonus"
   ]
  },
  {
   "cell_type": "code",
   "execution_count": 27,
   "id": "ae0ff5f6",
   "metadata": {},
   "outputs": [
    {
     "data": {
      "text/plain": [
       "'EmilyEmilyEmilyEmilyEmilyEmilyEmilyEmilyEmilyEmilyEmilyEmilyEmilyEmilyEmilyEmilyEmilyEmilyEmilyEmilyEmilyEmilyEmilyEmilyEmilyEmilyEmilyEmilyEmilyEmilyEmilyEmilyEmilyEmilyEmilyEmilyEmilyEmilyEmilyEmilyEmilyEmilyEmilyEmilyEmilyEmilyEmilyEmilyEmilyEmilyEmilyEmilyEmilyEmilyEmilyEmilyEmilyEmilyEmilyEmilyEmilyEmilyEmilyEmilyEmilyEmilyEmilyEmilyEmilyEmilyEmilyEmilyEmilyEmilyEmilyEmilyEmilyEmilyEmilyEmilyEmilyEmilyEmilyEmilyEmilyEmilyEmilyEmilyEmilyEmilyEmilyEmilyEmilyEmilyEmilyEmilyEmilyEmilyEmilyEmily'"
      ]
     },
     "execution_count": 27,
     "metadata": {},
     "output_type": "execute_result"
    }
   ],
   "source": [
    "e*100"
   ]
  },
  {
   "cell_type": "code",
   "execution_count": null,
   "id": "8af6cad9",
   "metadata": {},
   "outputs": [],
   "source": []
  }
 ],
 "metadata": {
  "kernelspec": {
   "display_name": "Python 3 (ipykernel)",
   "language": "python",
   "name": "python3"
  },
  "language_info": {
   "codemirror_mode": {
    "name": "ipython",
    "version": 3
   },
   "file_extension": ".py",
   "mimetype": "text/x-python",
   "name": "python",
   "nbconvert_exporter": "python",
   "pygments_lexer": "ipython3",
   "version": "3.11.5"
  }
 },
 "nbformat": 4,
 "nbformat_minor": 5
}
